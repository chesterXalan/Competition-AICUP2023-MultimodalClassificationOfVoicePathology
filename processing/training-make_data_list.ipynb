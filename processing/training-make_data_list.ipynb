{
 "cells": [
  {
   "cell_type": "code",
   "execution_count": 1,
   "id": "f7cd386a-7927-4a3e-96f2-9ec04d337f49",
   "metadata": {},
   "outputs": [],
   "source": [
    "import json\n",
    "import numpy as np\n",
    "from tqdm import tqdm\n",
    "from pathlib import Path"
   ]
  },
  {
   "cell_type": "code",
   "execution_count": 2,
   "id": "9c587672-5df7-4f03-8a1b-53c6e9eb8192",
   "metadata": {},
   "outputs": [],
   "source": [
    "data_dir = Path(r'..\\dataset\\training\\npz')\n",
    "json_file = r'..\\dataset\\training\\data_list_20230420.json'"
   ]
  },
  {
   "cell_type": "code",
   "execution_count": 3,
   "id": "9dc11d0c-ae31-418b-818f-7e9ef6880b68",
   "metadata": {},
   "outputs": [
    {
     "data": {
      "text/plain": [
       "1000"
      ]
     },
     "execution_count": 3,
     "metadata": {},
     "output_type": "execute_result"
    }
   ],
   "source": [
    "data_files = [f for f in data_dir.glob('*.npz')]\n",
    "len(data_files)"
   ]
  },
  {
   "cell_type": "code",
   "execution_count": 5,
   "id": "7e8ee74b-2617-452c-8cf8-558ddb7d5c51",
   "metadata": {},
   "outputs": [
    {
     "name": "stderr",
     "output_type": "stream",
     "text": [
      "100%|████████████████████████████████████████████████████████████████████████████| 1000/1000 [00:00<00:00, 2426.15it/s]"
     ]
    },
    {
     "name": "stdout",
     "output_type": "stream",
     "text": [
      "[536, 220, 168, 44, 32]\n"
     ]
    },
    {
     "name": "stderr",
     "output_type": "stream",
     "text": [
      "\n"
     ]
    }
   ],
   "source": [
    "category = {str(c): [] for c in range(1, 6)}\n",
    "for f in tqdm(data_files):\n",
    "    csv_data = np.load(f, allow_pickle=True)['csv_data'].item()\n",
    "    category[csv_data['Disease category']].append(f.name)\n",
    "    \n",
    "print([len(category[str(c)]) for c in range(1, 6)])"
   ]
  },
  {
   "cell_type": "code",
   "execution_count": 8,
   "id": "1640d0ee-fbfc-4e5f-9d88-7873efddb92a",
   "metadata": {},
   "outputs": [
    {
     "name": "stdout",
     "output_type": "stream",
     "text": [
      "train: [375, 154, 117, 30, 22]\n",
      "test: [161, 66, 51, 14, 10]\n"
     ]
    }
   ],
   "source": [
    "np.random.seed(0)\n",
    "train_data, test_data = {}, {}\n",
    "\n",
    "for cat, files in category.items():\n",
    "    train_data[cat] = list(np.random.choice(files, int(len(files)*0.7), replace=False)) # training data 70%\n",
    "    test_data[cat] = [f for f in files if f not in train_data[cat]] # test data 30%\n",
    "    \n",
    "print(f'train: {[len(train_data[str(c)]) for c in range(1, 6)]}')\n",
    "print(f'test: {[len(test_data[str(c)]) for c in range(1, 6)]}')"
   ]
  },
  {
   "cell_type": "code",
   "execution_count": 9,
   "id": "cd22455d-7c6a-4bf1-8a62-f6b92774bd8b",
   "metadata": {},
   "outputs": [],
   "source": [
    "json_data = {'train': train_data, 'test': test_data}\n",
    "with open(json_file, 'w') as f:\n",
    "    json.dump(json_data, f)"
   ]
  },
  {
   "cell_type": "code",
   "execution_count": null,
   "id": "8ed46940-54fd-4597-ac33-b63da2486d0b",
   "metadata": {},
   "outputs": [],
   "source": []
  }
 ],
 "metadata": {
  "kernelspec": {
   "display_name": "torch_1-13",
   "language": "python",
   "name": "torch_1-13"
  },
  "language_info": {
   "codemirror_mode": {
    "name": "ipython",
    "version": 3
   },
   "file_extension": ".py",
   "mimetype": "text/x-python",
   "name": "python",
   "nbconvert_exporter": "python",
   "pygments_lexer": "ipython3",
   "version": "3.9.15"
  }
 },
 "nbformat": 4,
 "nbformat_minor": 5
}
