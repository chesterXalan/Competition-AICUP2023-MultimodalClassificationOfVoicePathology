{
 "cells": [
  {
   "cell_type": "code",
   "execution_count": 1,
   "id": "f7cd386a-7927-4a3e-96f2-9ec04d337f49",
   "metadata": {},
   "outputs": [],
   "source": [
    "import json\n",
    "import numpy as np\n",
    "from tqdm import tqdm\n",
    "from pathlib import Path"
   ]
  },
  {
   "cell_type": "code",
   "execution_count": 2,
   "id": "9c587672-5df7-4f03-8a1b-53c6e9eb8192",
   "metadata": {},
   "outputs": [],
   "source": [
    "data_dir = Path(r'..\\dataset\\test\\npz_public')\n",
    "json_file = r'..\\dataset\\test\\data_list_public_20230511.json'"
   ]
  },
  {
   "cell_type": "code",
   "execution_count": 6,
   "id": "9dc11d0c-ae31-418b-818f-7e9ef6880b68",
   "metadata": {},
   "outputs": [
    {
     "data": {
      "text/plain": [
       "500"
      ]
     },
     "execution_count": 6,
     "metadata": {},
     "output_type": "execute_result"
    }
   ],
   "source": [
    "data_files = [f.name for f in data_dir.glob('*.npz')]\n",
    "len(data_files)"
   ]
  },
  {
   "cell_type": "code",
   "execution_count": 8,
   "id": "cd22455d-7c6a-4bf1-8a62-f6b92774bd8b",
   "metadata": {},
   "outputs": [],
   "source": [
    "json_data = {'test': data_files}\n",
    "with open(json_file, 'w') as f:\n",
    "    json.dump(json_data, f)"
   ]
  },
  {
   "cell_type": "code",
   "execution_count": null,
   "id": "8ed46940-54fd-4597-ac33-b63da2486d0b",
   "metadata": {},
   "outputs": [],
   "source": []
  }
 ],
 "metadata": {
  "kernelspec": {
   "display_name": "torch_1-13",
   "language": "python",
   "name": "torch_1-13"
  },
  "language_info": {
   "codemirror_mode": {
    "name": "ipython",
    "version": 3
   },
   "file_extension": ".py",
   "mimetype": "text/x-python",
   "name": "python",
   "nbconvert_exporter": "python",
   "pygments_lexer": "ipython3",
   "version": "3.9.15"
  }
 },
 "nbformat": 4,
 "nbformat_minor": 5
}
