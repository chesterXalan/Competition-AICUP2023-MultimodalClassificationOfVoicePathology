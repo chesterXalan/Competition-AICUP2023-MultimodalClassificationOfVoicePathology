{
 "cells": [
  {
   "cell_type": "code",
   "execution_count": 1,
   "id": "f7cd386a-7927-4a3e-96f2-9ec04d337f49",
   "metadata": {},
   "outputs": [],
   "source": [
    "import pandas\n",
    "import numpy as np\n",
    "from tqdm import tqdm\n",
    "from pathlib import Path\n",
    "from scipy.io import wavfile"
   ]
  },
  {
   "cell_type": "code",
   "execution_count": 2,
   "id": "9c587672-5df7-4f03-8a1b-53c6e9eb8192",
   "metadata": {},
   "outputs": [],
   "source": [
    "data_dir = Path(r'..\\dataset\\test\\test_data_public')\n",
    "csv_file = r'..\\dataset\\test\\test_datalist_public.csv'\n",
    "\n",
    "output_dir = Path(r'..\\dataset\\test\\npz_public')\n",
    "output_dir.mkdir(exist_ok=True)"
   ]
  },
  {
   "cell_type": "code",
   "execution_count": 3,
   "id": "119f6d6a-99b7-4c33-88c8-b88308cc2c39",
   "metadata": {},
   "outputs": [
    {
     "name": "stdout",
     "output_type": "stream",
     "text": [
      "27 ['ID', 'Sex', 'Age', 'Narrow pitch range', 'Decreased volume', 'Fatigue', 'Dryness', 'Lumping', 'heartburn', 'Choking', 'Eye dryness', 'PND', 'Smoking', 'PPD', 'Drinking', 'frequency', 'Diurnal pattern', 'Onset of dysphonia ', 'Noise at work', 'Occupational vocal demand', 'Diabetes', 'Hypertension', 'CAD', 'Head and Neck Cancer', 'Head injury', 'CVA', 'Voice handicap index - 10']\n"
     ]
    }
   ],
   "source": [
    "csv = pandas.read_csv(csv_file, dtype=str).fillna('0')\n",
    "csv_keys = csv.keys().to_list()\n",
    "csv_id = csv[csv_keys[0]].to_list()\n",
    "print(len(csv_keys), csv_keys)"
   ]
  },
  {
   "cell_type": "code",
   "execution_count": 4,
   "id": "9dc11d0c-ae31-418b-818f-7e9ef6880b68",
   "metadata": {},
   "outputs": [
    {
     "data": {
      "text/plain": [
       "500"
      ]
     },
     "execution_count": 4,
     "metadata": {},
     "output_type": "execute_result"
    }
   ],
   "source": [
    "data_files = [f for f in data_dir.glob('*.wav')]\n",
    "len(data_files)"
   ]
  },
  {
   "cell_type": "code",
   "execution_count": 6,
   "id": "acf1d77f-d1ed-4c5f-83c8-623ef2c19824",
   "metadata": {},
   "outputs": [
    {
     "name": "stderr",
     "output_type": "stream",
     "text": [
      "100%|████████████████████████████████████████████████████████████████████████████████| 500/500 [00:21<00:00, 22.75it/s]\n"
     ]
    }
   ],
   "source": [
    "for f in tqdm(data_files):\n",
    "    _, arr = wavfile.read(f)\n",
    "\n",
    "    fname = f.stem\n",
    "    fid = csv_id.index(fname) # get file id\n",
    "    csv_data = {}\n",
    "    for key in csv_keys:\n",
    "        csv_data[key] = csv[key][fid]\n",
    "    \n",
    "    np.savez_compressed(output_dir/f'{fname}.npz', signal=arr, csv_data=csv_data)"
   ]
  },
  {
   "cell_type": "code",
   "execution_count": null,
   "id": "8ed46940-54fd-4597-ac33-b63da2486d0b",
   "metadata": {},
   "outputs": [],
   "source": []
  }
 ],
 "metadata": {
  "kernelspec": {
   "display_name": "torch_1-13",
   "language": "python",
   "name": "torch_1-13"
  },
  "language_info": {
   "codemirror_mode": {
    "name": "ipython",
    "version": 3
   },
   "file_extension": ".py",
   "mimetype": "text/x-python",
   "name": "python",
   "nbconvert_exporter": "python",
   "pygments_lexer": "ipython3",
   "version": "3.9.15"
  }
 },
 "nbformat": 4,
 "nbformat_minor": 5
}
