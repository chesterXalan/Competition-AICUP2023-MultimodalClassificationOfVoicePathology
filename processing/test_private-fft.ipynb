{
 "cells": [
  {
   "cell_type": "code",
   "execution_count": 1,
   "id": "f7cd386a-7927-4a3e-96f2-9ec04d337f49",
   "metadata": {},
   "outputs": [],
   "source": [
    "import numpy as np\n",
    "from scipy import fft\n",
    "from tqdm import tqdm\n",
    "from pathlib import Path\n",
    "from matplotlib import pyplot as plt"
   ]
  },
  {
   "cell_type": "code",
   "execution_count": 2,
   "id": "9c587672-5df7-4f03-8a1b-53c6e9eb8192",
   "metadata": {},
   "outputs": [],
   "source": [
    "data_dir = Path(r'..\\dataset\\test\\npz_private')\n",
    "output_dir = Path(r'..\\dataset\\test\\npz_fft_private')\n",
    "output_dir.mkdir(exist_ok=True)"
   ]
  },
  {
   "cell_type": "code",
   "execution_count": 3,
   "id": "9dc11d0c-ae31-418b-818f-7e9ef6880b68",
   "metadata": {},
   "outputs": [
    {
     "data": {
      "text/plain": [
       "500"
      ]
     },
     "execution_count": 3,
     "metadata": {},
     "output_type": "execute_result"
    }
   ],
   "source": [
    "data_files = [f for f in data_dir.glob('*.npz')]\n",
    "len(data_files)"
   ]
  },
  {
   "cell_type": "code",
   "execution_count": 4,
   "id": "acf1d77f-d1ed-4c5f-83c8-623ef2c19824",
   "metadata": {},
   "outputs": [
    {
     "name": "stderr",
     "output_type": "stream",
     "text": [
      "  0%|                                                                                          | 0/500 [00:00<?, ?it/s]C:\\Users\\user\\AppData\\Local\\Temp\\ipykernel_19180\\247074028.py:4: ComplexWarning: Casting complex values to real discards the imaginary part\n",
      "  signal_fft = fft.rfft(signal).astype(np.float32)\n",
      "100%|████████████████████████████████████████████████████████████████████████████████| 500/500 [00:05<00:00, 95.22it/s]\n"
     ]
    }
   ],
   "source": [
    "for f in tqdm(data_files):\n",
    "    data = np.load(f, allow_pickle=True)\n",
    "    signal, csv_data = data['signal'], data['csv_data']\n",
    "    signal_fft = fft.rfft(signal).astype(np.float32)\n",
    "    \n",
    "    np.savez_compressed(output_dir/f.name, signal=signal_fft, csv_data=csv_data)"
   ]
  },
  {
   "cell_type": "code",
   "execution_count": null,
   "id": "8ed46940-54fd-4597-ac33-b63da2486d0b",
   "metadata": {},
   "outputs": [],
   "source": []
  }
 ],
 "metadata": {
  "kernelspec": {
   "display_name": "torch_1-13",
   "language": "python",
   "name": "torch_1-13"
  },
  "language_info": {
   "codemirror_mode": {
    "name": "ipython",
    "version": 3
   },
   "file_extension": ".py",
   "mimetype": "text/x-python",
   "name": "python",
   "nbconvert_exporter": "python",
   "pygments_lexer": "ipython3",
   "version": "3.9.15"
  }
 },
 "nbformat": 4,
 "nbformat_minor": 5
}
